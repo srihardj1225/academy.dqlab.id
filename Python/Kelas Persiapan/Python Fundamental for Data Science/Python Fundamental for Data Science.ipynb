{
 "cells": [
  {
   "cell_type": "code",
   "execution_count": null,
   "id": "152c78eb",
   "metadata": {},
   "outputs": [],
   "source": [
    "#Struktur Kontrol: Percabangan Keputusan"
   ]
  },
  {
   "cell_type": "code",
   "execution_count": 14,
   "id": "92c39609",
   "metadata": {},
   "outputs": [],
   "source": [
    "#IF Statement\n",
    "\n",
    "i=7 #inisialisasi variable i yang memiliki nilai 10\n",
    "\n",
    "if(i==10): #pengechekan nilai i apakah sama dengan 10\n",
    "     print(\"ini adalah angka 10\") #jika TRUE maka akan mencetak kalimat ini"
   ]
  },
  {
   "cell_type": "code",
   "execution_count": 1,
   "id": "350c2adf",
   "metadata": {},
   "outputs": [
    {
     "name": "stdout",
     "output_type": "stream",
     "text": [
      "bukan angka 10\n"
     ]
    }
   ],
   "source": [
    "#IF … ELSE …\n",
    "\n",
    "i=5 #inisialisasi variable i yang memiliki nilai 10\n",
    "\n",
    "if(i==10): \n",
    "    #pengecekan nilai i apakah sama dengan 10\n",
    "    \n",
    "    print(\"ini adalah angka 10\")\n",
    "    #jika TRUE maka akan mencetak angka kalimat ini\n",
    "\n",
    "else :\n",
    "    print(\"bukan angka 10\")\n",
    "    #jika FALSE maka akan mencetak kalimat ini"
   ]
  },
  {
   "cell_type": "code",
   "execution_count": 10,
   "id": "2f6ef079",
   "metadata": {},
   "outputs": [
    {
     "name": "stdout",
     "output_type": "stream",
     "text": [
      "lebih kecil dari 5\n"
     ]
    }
   ],
   "source": [
    "#IF … ELIF … ELSE ….\n",
    "i=3\n",
    "\n",
    "if(i==5):\n",
    "    print(\"ini adalah angka 5\")\n",
    "elif(i>5):\n",
    "    print(\"lebih besar dari 5\")\n",
    "else:\n",
    "    print(\"lebih kecil dari 5\")    "
   ]
  },
  {
   "cell_type": "code",
   "execution_count": 15,
   "id": "3c99a035",
   "metadata": {},
   "outputs": [
    {
     "name": "stdout",
     "output_type": "stream",
     "text": [
      "nilai i kurang dari 7\n",
      "nilai i kurang dari 7 dan kurang dari 3\n"
     ]
    }
   ],
   "source": [
    "#NESTED IF\n",
    "\n",
    "i=2\n",
    "if (i<7):\n",
    "     print(\"nilai i kurang dari 7\")\n",
    "if (i<3):\n",
    "    print(\"nilai i kurang dari 7 dan kurang dari 3\")\n",
    "else:\n",
    "    print(\"nilai i kurang dari 7 tapi lebih dari 3\")"
   ]
  },
  {
   "cell_type": "code",
   "execution_count": null,
   "id": "b2efcbc1",
   "metadata": {},
   "outputs": [],
   "source": [
    "#Operator Matematika dan Pembanding"
   ]
  },
  {
   "cell_type": "code",
   "execution_count": 16,
   "id": "1e440c1b",
   "metadata": {},
   "outputs": [
    {
     "name": "stdout",
     "output_type": "stream",
     "text": [
      "Hasil penjumlahan a dan b adalah 15\n",
      "Selisih a dan b adalah: 5\n",
      "Hasil perkalian a dan b adalah : 50\n",
      "Hasil pembagian a dan b adalah : 2.0\n"
     ]
    }
   ],
   "source": [
    "a=10\n",
    "b=5\n",
    "selisih = a-b\n",
    "jumlah = a+b\n",
    "kali = a*b\n",
    "bagi = a/b\n",
    "print(\"Hasil penjumlahan a dan b adalah\", jumlah)\n",
    "print(\"Selisih a dan b adalah:\",selisih)\n",
    "print(\"Hasil perkalian a dan b adalah :\",kali)\n",
    "print(\"Hasil pembagian a dan b adalah :\",bagi)"
   ]
  },
  {
   "cell_type": "code",
   "execution_count": 19,
   "id": "8ab95f4b",
   "metadata": {},
   "outputs": [
    {
     "name": "stdout",
     "output_type": "stream",
     "text": [
      "Selisih  c dan d adalah 5\n",
      "Hasil c ditambah d adalah 25\n",
      "Hasil perkalian c dan d adalah 150\n",
      "Hasil c bagi d adalah 2.0\n"
     ]
    }
   ],
   "source": [
    "c=15\n",
    "d=10\n",
    "selisih = c-d\n",
    "jumlah = c+d\n",
    "kali = c*d\n",
    "bagi = a/b\n",
    "print(\"Selisih  c dan d adalah\",selisih)\n",
    "print(\"Hasil c ditambah d adalah\",jumlah)\n",
    "print(\"Hasil perkalian c dan d adalah\",kali)\n",
    "print(\"Hasil c bagi d adalah\",bagi)"
   ]
  },
  {
   "cell_type": "code",
   "execution_count": 20,
   "id": "a5ffede8",
   "metadata": {},
   "outputs": [
    {
     "name": "stdout",
     "output_type": "stream",
     "text": [
      "Hasil modulus 1\n"
     ]
    }
   ],
   "source": [
    "#Operasi modulus\n",
    "\n",
    "c=10\n",
    "d=3\n",
    "modulus=c%d\n",
    "print(\"Hasil modulus\",modulus)"
   ]
  },
  {
   "cell_type": "code",
   "execution_count": 21,
   "id": "dbe53cc7",
   "metadata": {},
   "outputs": [
    {
     "name": "stdout",
     "output_type": "stream",
     "text": [
      "angka termasuk bilangan ganjil\n"
     ]
    }
   ],
   "source": [
    "angka=5\n",
    "\n",
    "if(angka%2==0):\n",
    "    print(\"angka termasuk bilangan genap\")\n",
    "else:\n",
    "    print(\"angka termasuk bilangan ganjil\")"
   ]
  },
  {
   "cell_type": "code",
   "execution_count": 22,
   "id": "05545437",
   "metadata": {},
   "outputs": [],
   "source": [
    "#Perulangan"
   ]
  },
  {
   "cell_type": "code",
   "execution_count": 27,
   "id": "b9a42a47",
   "metadata": {},
   "outputs": [
    {
     "name": "stdout",
     "output_type": "stream",
     "text": [
      "ini adalah perulangan ke- 0\n",
      "ini adalah perulangan ke- 1\n",
      "ini adalah perulangan ke- 2\n",
      "ini adalah perulangan ke- 3\n",
      "ini adalah perulangan ke- 4\n",
      "ini adalah perulangan ke- 5\n"
     ]
    }
   ],
   "source": [
    "#while\n",
    "\n",
    "#nilai awal j=0\n",
    "j=0\n",
    "\n",
    "#ketika j kurang dari 6 lakukan perulangan, jika tidak stop perulangan\n",
    "while j<6:\n",
    "\n",
    "    #lakukan perintah ini ketika perulangan\n",
    "    print(\"ini adalah perulangan ke-\",j)\n",
    "    \n",
    "    #setiap kali diakhir perulangan update nilai dengan ditambah 1.\n",
    "    j=j+1"
   ]
  },
  {
   "cell_type": "code",
   "execution_count": 2,
   "id": "8235a74d",
   "metadata": {},
   "outputs": [
    {
     "name": "stdout",
     "output_type": "stream",
     "text": [
      "ini adalah perulangan ke - 1\n",
      "ini adalah perulangan ke - 2\n",
      "ini adalah perulangan ke - 3\n",
      "ini adalah perulangan ke - 4\n",
      "ini adalah perulangan ke - 5\n"
     ]
    }
   ],
   "source": [
    "#FOR\n",
    "\n",
    "for i in range(1,6): \n",
    "#perulangan for sebagai inisialisasi dari angka 1 hingga angka yang lebih kecil daripada 6.\n",
    "\n",
    "    print(\"ini adalah perulangan ke -\",i)\n",
    "#perintah jika looping akan tetap berjalan"
   ]
  },
  {
   "cell_type": "code",
   "execution_count": 4,
   "id": "c04bc186",
   "metadata": {},
   "outputs": [
    {
     "name": "stdout",
     "output_type": "stream",
     "text": [
      "Angka ganjil 1\n",
      "Angka genap 2\n",
      "Angka ganjil 3\n",
      "Angka genap 4\n",
      "Angka ganjil 5\n",
      "Angka genap 6\n",
      "Angka ganjil 7\n",
      "Angka genap 8\n",
      "Angka ganjil 9\n",
      "Angka genap 10\n"
     ]
    }
   ],
   "source": [
    "#for (2) with access element\n",
    "\n",
    "for i in range (1,11):\n",
    "    if(i%2==0):\n",
    "        print(\"Angka genap\",i)\n",
    "    else:\n",
    "         print(\"Angka ganjil\",i)"
   ]
  },
  {
   "cell_type": "code",
   "execution_count": 7,
   "id": "efe32ee8",
   "metadata": {},
   "outputs": [
    {
     "name": "stdout",
     "output_type": "stream",
     "text": [
      "Hello, Selamat Pagi\n"
     ]
    }
   ],
   "source": [
    "#Membuat Fungsi\n",
    "def salam():\n",
    "    print(\"Hello, Selamat Pagi\")\n",
    "\n",
    "#Pemanggilan Fungsi\n",
    "salam()\n"
   ]
  },
  {
   "cell_type": "code",
   "execution_count": null,
   "id": "d6f3262b",
   "metadata": {},
   "outputs": [],
   "source": []
  }
 ],
 "metadata": {
  "kernelspec": {
   "display_name": "Python 3 (ipykernel)",
   "language": "python",
   "name": "python3"
  },
  "language_info": {
   "codemirror_mode": {
    "name": "ipython",
    "version": 3
   },
   "file_extension": ".py",
   "mimetype": "text/x-python",
   "name": "python",
   "nbconvert_exporter": "python",
   "pygments_lexer": "ipython3",
   "version": "3.9.12"
  }
 },
 "nbformat": 4,
 "nbformat_minor": 5
}
